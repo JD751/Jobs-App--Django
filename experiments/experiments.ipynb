{
 "cells": [
  {
   "cell_type": "code",
   "execution_count": 2,
   "metadata": {},
   "outputs": [
    {
     "name": "stdout",
     "output_type": "stream",
     "text": [
      "2\n"
     ]
    }
   ],
   "source": [
    "d={\"app\":2, \"ora\":3, \"gra\":5}\n",
    "\n",
    "print(d[\"app\"])"
   ]
  }
 ],
 "metadata": {
  "interpreter": {
   "hash": "ad0fd85e761b6900952f451f7a782ae607c80f40d00218fcfa0d2b591e9c6bfc"
  },
  "kernelspec": {
   "display_name": "Python 3.11.0 ('env': venv)",
   "language": "python",
   "name": "python3"
  },
  "language_info": {
   "codemirror_mode": {
    "name": "ipython",
    "version": 3
   },
   "file_extension": ".py",
   "mimetype": "text/x-python",
   "name": "python",
   "nbconvert_exporter": "python",
   "pygments_lexer": "ipython3",
   "version": "3.11.0"
  },
  "orig_nbformat": 4
 },
 "nbformat": 4,
 "nbformat_minor": 2
}
